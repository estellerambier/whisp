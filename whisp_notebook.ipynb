{
 "cells": [
  {
   "cell_type": "markdown",
   "id": "56875dab-d0f1-4c00-b552-1e7e0d43c0b3",
   "metadata": {
    "tags": []
   },
   "source": [
    "## Fetch GEOIDs for Plots of Land"
   ]
  },
  {
   "cell_type": "code",
   "execution_count": null,
   "id": "5f38ea66-de6e-4509-90be-847800e669ca",
   "metadata": {},
   "outputs": [],
   "source": [
    "GHA_ids = ['88bec54ad04804f5b1fafbc131266640a129be2840fa6797cda358d7e831b907', \n",
    "        'ef2f7c46fbe4fc892fdb81f9a31c9c507b9f1e4548504247dcbbab28cf8e436c',\n",
    "        '97408ef7bdac487e4a42e4abf20492b786310889fd4b0478603e2d0004c40bfb']\n",
    "\n",
    "IDN_ids = ['c288d6c94efa9011c0e3452af9f7fa0941661377030e10d29c68764617f9816d', \n",
    "       '1a41a309ae2387f36a604c9a6c81887e64357a7f61d228758e23ef766286fcd7',\n",
    "       '1a4472dc40700ef33f931863f58d444f243d64418616678fcf85c57e1f4bbf45',\n",
    "       '8e2accea7ddbb84b7f6001e00bcb60f57f563c80633b53859993522a6f05727a']\n",
    "\n",
    "CIV_ids = ['0520cfac98fbc1bd7952b1c07a9f6983b83625722b6f665ea83ac9aad3512918',\n",
    "           'b84f55de2b7f3c77d1cbeb8b026a1b29be42d8b08d92058c9143e0556456820f',\n",
    "           'b7c15efb6e3c63fcfe649a2d994973a6f5caa844f720f0edb7cf24f6a6c3c1b3',\n",
    "            'fa2aff0d60cf1bc0e1f1dd4b91daf932940c31c021ca1b84f5b9445855eef02f']\n",
    "\n",
    "all_geo_ids= GHA_ids + IDN_ids #+ CIV_ids"
   ]
  },
  {
   "cell_type": "markdown",
   "id": "aa0cd457-8e49-4d31-83d1-75d60f6adb24",
   "metadata": {},
   "source": [
    "## Process public and relevant datasets"
   ]
  },
  {
   "cell_type": "markdown",
   "id": "24e78804",
   "metadata": {
    "tags": []
   },
   "source": [
    "### 1. Imports"
   ]
  },
  {
   "cell_type": "code",
   "execution_count": null,
   "id": "bf2e1318",
   "metadata": {
    "tags": []
   },
   "outputs": [],
   "source": [
    "import json\n",
    "import ee\n",
    "import geemap\n",
    "import folium ###\n",
    "import os\n",
    "import pandas as pd\n",
    "import geopandas as gpd\n",
    "import numpy as np\n",
    "import time\n",
    "import math ###\n",
    "import geojson \n",
    "from datetime import datetime ###\n",
    "from sidecar import Sidecar ###\n",
    "\n",
    "from modules.gee_initialize import initialize_ee \n",
    "\n",
    "initialize_ee()\n",
    "\n",
    "from modules.json_to_ee import json_to_feature_with_id ###\n",
    "from modules.agstack_setup import start_agstack_session ###\n",
    "import modules.agstack_to_gee as agstack_to_gee ###\n",
    "import modules.area_stats as area_stats\n",
    "from modules.country_allocation import find_country_from_modal_stats\n",
    "import modules.tidy_tables as tidy_tables\n",
    "from parameters import * # NB for run-specific parameters edit \"parameters/config_runtime\"\n",
    "from modules.file_to_ceo import get_ceo_url ###\n",
    "from modules.image_prep import export_image_collection_to_asset, add_multi_lookup_properties_to_image_collection\n",
    "from modules.image_prep import add_multi_lookup_properties_to_image_collection\n",
    "from parameters.config_lookups import lookup_gee_datasets\n",
    "\n",
    "print (\"imports complete\")"
   ]
  },
  {
   "cell_type": "code",
   "execution_count": null,
   "id": "6f04ed9f-236f-4e01-b530-06f633d14aa9",
   "metadata": {},
   "outputs": [],
   "source": [
    "if os.path.exists(\"parameters/lookup_gadm_country_codes_to_iso3.csv\"):\n",
    "    if debug: print (\"file exists\")\n",
    "else:\n",
    "    %run misc/_create_lookups_gadm.py # only need run only once when "
   ]
  },
  {
   "cell_type": "markdown",
   "id": "749c76fb-f3ba-43cf-a918-4f6d09e43a7e",
   "metadata": {
    "tags": []
   },
   "source": [
    "### 2. Call and process datasets"
   ]
  },
  {
   "cell_type": "code",
   "execution_count": null,
   "id": "aae98294-9c98-4b31-b44a-c617f3613228",
   "metadata": {
    "tags": []
   },
   "outputs": [],
   "source": [
    "if use_existing_image_collection:\n",
    "    images_iCol = ee.ImageCollection(target_image_col_id) \n",
    "    print (\"using existing image collection asset\")\n",
    "else:\n",
    "    print (\"compiling image collection on the fly...\")\n",
    "    from datasets.combining_datasets import images_iCol\n",
    "\n"
   ]
  },
  {
   "cell_type": "code",
   "execution_count": null,
   "id": "80b224a1-3f9f-49f2-8506-784ae80e609e",
   "metadata": {},
   "outputs": [],
   "source": [
    "## get lists from lookup for different streams of processing\n",
    "from  dataset_properties.make_processing_lists_from_lookup import buffer_stats_list,\\\n",
    "                                                                  presence_only_flag_list,\\\n",
    "                                                                  country_allocation_stats_only_list, \\\n",
    "                                                                  plot_stats_list, \\\n",
    "                                                                  decimal_place_column_list\n",
    "if debug: print (\"processed\")"
   ]
  },
  {
   "cell_type": "code",
   "execution_count": null,
   "id": "7fc2a7ed-8488-4681-a965-6b6a92195915",
   "metadata": {},
   "outputs": [],
   "source": [
    "#filtering to remove images in exclusion list (from parameters.config_runtime), useful if dont want certain datasets\n",
    "images_iCol_filt = images_iCol.filter(ee.Filter.inList(\"dataset_id\",exclusion_list_dataset_ids).Not())\n",
    "if debug: print (\"excluding dataset ids: \", exclusion_list_dataset_ids)"
   ]
  },
  {
   "cell_type": "code",
   "execution_count": null,
   "id": "71b7c188-274c-4efa-8ffd-d666388b9234",
   "metadata": {},
   "outputs": [],
   "source": [
    "if update_iCol_properties ==True or use_existing_image_collection == False:\n",
    "    images_iCol_w_properties = add_multi_lookup_properties_to_image_collection(images_iCol_filt,\"dataset_id\",\n",
    "                                                            lookup_gee_datasets, \"dataset_id\",\n",
    "                                                            \"dataset_name\",\"system:index\",\n",
    "                                                            \"dataset_order\",\"dataset_order\",\n",
    "                                                            \"country_allocation_stats_only\",\"country_allocation_stats_only\")\n",
    "    images_iCol_filt = images_iCol_w_properties\n",
    "    if debug: print (\"properties added/updated\")"
   ]
  },
  {
   "cell_type": "markdown",
   "id": "040debff-4f8a-44d2-91f6-8a8ab79aff3e",
   "metadata": {
    "tags": []
   },
   "source": [
    "#### Start session"
   ]
  },
  {
   "cell_type": "code",
   "execution_count": null,
   "id": "828017fa-9522-406c-8f8d-18a67aee3c52",
   "metadata": {
    "tags": []
   },
   "outputs": [],
   "source": [
    "session = start_agstack_session(email,password,user_registry_base,debug)"
   ]
  },
  {
   "cell_type": "markdown",
   "id": "ea3b1a42-5ade-41e5-b618-ab02169ddbc1",
   "metadata": {
    "tags": []
   },
   "source": [
    "#### Fetch and prepare features"
   ]
  },
  {
   "cell_type": "code",
   "execution_count": null,
   "id": "c990539e-ef11-41ba-ae07-370eea375830",
   "metadata": {
    "tags": []
   },
   "outputs": [],
   "source": [
    "#fetch and convert into feature collection\n",
    "roi = agstack_to_gee.geo_id_or_ids_to_feature_collection(\n",
    "    all_geo_ids=all_geo_ids, geo_id_column=geo_id_column, session=session, asset_registry_base=asset_registry_base,required_area=4,area_unit=\"ha\",debug=debug)\n",
    "\n",
    "roi = area_stats.add_area_hectares_property_to_feature_collection(roi,geometry_area_column)\n",
    "\n",
    "#select only columns of interest\n",
    "roi  = roi.select([geometry_area_column,geo_id_column]) \n",
    "\n",
    "#Create additional buffer zones for deforestation risk \n",
    "if len(buffer_stats_list)>=1:\n",
    "    roi_buffer = roi.map(lambda feature:\n",
    "            feature.buffer(local_alerts_buffer_radius,max_error_alert_buff))\n",
    "else:\n",
    "    roi_buffer = \"empty\""
   ]
  },
  {
   "cell_type": "markdown",
   "id": "874274c3-15af-4aca-b407-f7683f883878",
   "metadata": {
    "tags": []
   },
   "source": [
    "### 3. Compute statistics"
   ]
  },
  {
   "cell_type": "markdown",
   "id": "e7f19d47-119d-4df0-b156-cdc2ab2e3e69",
   "metadata": {},
   "source": [
    "Calculating zonal statistics for continuous data (e.g tree cover) within polygon(s)"
   ]
  },
  {
   "cell_type": "markdown",
   "id": "1ce375a3-ac9a-4fb8-b61f-0604e8c50f30",
   "metadata": {},
   "source": [
    "##### i) Mapping over image collection with reduce regions (creates long format temporary table)"
   ]
  },
  {
   "cell_type": "code",
   "execution_count": null,
   "id": "4b9cbfcd-fc1f-4516-b455-e2d88c4b7461",
   "metadata": {
    "scrolled": true,
    "tags": []
   },
   "outputs": [],
   "source": [
    "# get the start time\n",
    "st = time.time()\n",
    "\n",
    "if debug: print (\"processing stats...\")\n",
    "\n",
    "zonal_stats_out = area_stats.zonal_stats_plot_w_buffer(roi, roi_buffer, images_iCol_filt, plot_stats_list, buffer_stats_list, reducer_choice, debug)\n",
    "\n",
    "# convert to Pandas Dataframe\n",
    "df = geemap.ee_to_pandas(zonal_stats_out) # limit of 5000 (unlikely to need more but i have code for it if needed)\n",
    "\n",
    "if debug: print ('Total execution time:', time.time() - st, 'seconds')# get the execution time"
   ]
  },
  {
   "cell_type": "markdown",
   "id": "375629ec-ef13-4c64-9c5c-cbb3563b8d2f",
   "metadata": {
    "tags": []
   },
   "source": [
    "Look up table linking country codes to country names (from administrative feature collection) is stored here: scripts: create_country_lookup.py"
   ]
  },
  {
   "cell_type": "markdown",
   "id": "ec10e289-42df-42f4-b576-ef216efe8356",
   "metadata": {},
   "source": [
    "##### ii): Create lookup tables for country allocation\n",
    "Approach is based on raster stats and listing the country for a specific geometry based on which has most overlap\n",
    "\n"
   ]
  },
  {
   "cell_type": "markdown",
   "id": "93bb09fe-dcf8-4084-95aa-f8c586dfe78d",
   "metadata": {
    "tags": []
   },
   "source": [
    "Make on-the-fly look up table to link country name to geo id based on raster stats\n",
    "- uses rasterised admin layer with admin codes as pixel values\n",
    "- for each geo id finds most common value in that geometry (i.e. \"mode\" statistic)"
   ]
  },
  {
   "cell_type": "code",
   "execution_count": null,
   "id": "fc8f51bc-be03-4c05-8337-942f06653803",
   "metadata": {
    "tags": []
   },
   "outputs": [],
   "source": [
    "lookup_geo_id_to_country_names = find_country_from_modal_stats(\n",
    "    roi=roi,\n",
    "    image_collection = images_iCol_filt,\n",
    "    reducer_choice=reducer_choice,\n",
    "    geo_id_column=geo_id_column,\n",
    "    country_dataset_id=country_dataset_id,\n",
    "    admin_code_col_name=admin_code_col_name,\n",
    "    lookup_country_codes_to_names=lookup_country_codes_to_names)\n"
   ]
  },
  {
   "cell_type": "markdown",
   "id": "9708c035-91ed-4dbb-aaad-e91f99da3300",
   "metadata": {},
   "source": [
    "##### iii) Reformat results table\n",
    "- convert areas to percentage cover of plot\n",
    "- long to wide format; \n",
    "- set presence only flags\n",
    "- add in country names (using lookup tables) to the final results"
   ]
  },
  {
   "cell_type": "code",
   "execution_count": null,
   "id": "854dbc0c-d65d-4a57-ba6b-b496011a8832",
   "metadata": {},
   "outputs": [],
   "source": [
    "#add percentage column\n",
    "df[\"percentage\"] = (df[\"sum\"]/\n",
    "                             df[geometry_area_column])*100\n",
    "\n",
    "\n",
    "#convert to wide format (one row per geo_id)\n",
    "df_wide = df.pivot_table(index=[geo_id_column,geometry_area_column],\n",
    "                                  columns=['dataset_name'],values=['percentage'])\n",
    "\n",
    "#tidy unwanted headers (runs in place so no need to assign variable)\n",
    "tidy_tables.tidy_dataframe_after_pivot(df_wide) \n",
    "\n",
    "# convert positive results values to \"True\" for specific columns and fix decimals\n",
    "df_wide[presence_only_flag_list] = np.where(df_wide[presence_only_flag_list] > 0, \"True\", \"-\")\n",
    "df_wide[decimal_place_column_list] = df_wide[decimal_place_column_list].round(decimals=0, out=None).astype(int)\n",
    "\n",
    "# Reset index formatting\n",
    "df_wide=df_wide.reset_index()\n",
    "\n",
    "#decimals for geometry column\n",
    "df_wide[geometry_area_column]=df_wide[geometry_area_column].round(decimals=1, out=None)\n",
    "\n",
    "# #joins country name based on majority overlap with country \n",
    "df_wide_w_country = df_wide.merge(lookup_geo_id_to_country_names,on=geo_id_column)"
   ]
  },
  {
   "cell_type": "markdown",
   "id": "37b953c9-8c07-4268-8d00-ffa99c87a6a8",
   "metadata": {},
   "source": [
    "##### iv) Further reformatting\n",
    "- reorder columns\n",
    "- reorder rows to match Geo_ID / ROI order\n",
    "- add plot id column for easy reference\n",
    "- remove underscores in column headers"
   ]
  },
  {
   "cell_type": "code",
   "execution_count": null,
   "id": "4035bf5e-6c8c-4a84-aaad-6b351f3eaabf",
   "metadata": {},
   "outputs": [],
   "source": [
    "#columns to add to start of table\n",
    "prefix_columns_list =[geo_id_column,geometry_area_column,\"Country\"] \n",
    "\n",
    "#use lookup to reorder cols\n",
    "df_wide_w_country_reordered_cols = tidy_tables.reorder_columns_by_lookup(\n",
    "    df_wide_w_country,\n",
    "    lookup_gee_datasets,\n",
    "    'dataset_order',\n",
    "    \"dataset_name\",\n",
    "    prefix_columns_list).drop(country_dataset_name, axis=1, errors='ignore')\n",
    "\n",
    "# reordering rows using geo_id order from feature collection (if more than one feature). NB Some repetition here with below. Avoiding Geopandas for speed of csv production.\n",
    "if len(df_wide_w_country_reordered_cols)>1:\n",
    "    df_wide_w_country_reordered_cols_n_rows = pd.merge(geemap.ee_to_pandas(roi)[geo_id_column],\n",
    "                  df_wide_w_country_reordered_cols, \n",
    "                  left_on=geo_id_column, \n",
    "                  right_on=geo_id_column, \n",
    "                  how='inner')\n",
    "    \n",
    "#renaming for clarity\n",
    "df_out = df_wide_w_country_reordered_cols_n_rows\n",
    "\n",
    "#adding in index plot id column for visual cross referencing on map etc\n",
    "df_out[plot_id_column] = df_out.index +1\n",
    "\n",
    "df_out.set_index(plot_id_column, inplace = True)\n",
    "\n",
    "ceo_cols_for_exporting = df_out.columns # with underscores for use in ceo export\n",
    "\n",
    "# remove underscores in column names\n",
    "df_out.columns = df_out.columns.str.replace('_', ' ')"
   ]
  },
  {
   "cell_type": "code",
   "execution_count": null,
   "id": "1b48c4ff-c728-437d-9e3d-12e42f9d60ab",
   "metadata": {},
   "outputs": [],
   "source": [
    "#export output csv\n",
    "df_out.to_csv(path_or_buf=out_file_wide,header=True)\n",
    "\n",
    "if debug: print (\"output csv: \", out_file_wide)\n",
    "# df_wide"
   ]
  },
  {
   "cell_type": "markdown",
   "id": "ae23af17-5286-4578-afad-413f7f0d0d1f",
   "metadata": {
    "tags": []
   },
   "source": [
    "### 4. Convert to CEO input"
   ]
  },
  {
   "cell_type": "code",
   "execution_count": null,
   "id": "fdb205c0-8908-4c7b-8447-014608635713",
   "metadata": {
    "tags": []
   },
   "outputs": [],
   "source": [
    "df = pd.merge(geemap.ee_to_geopandas(roi), \n",
    "              df_out, \n",
    "              left_on='Geo_id', \n",
    "              right_on='Geo id', \n",
    "              how='inner')"
   ]
  },
  {
   "cell_type": "code",
   "execution_count": null,
   "id": "7c3aae13-d73b-4cda-a33d-732f584d1563",
   "metadata": {
    "tags": []
   },
   "outputs": [],
   "source": [
    "df[plot_id_column] = df.index +1\n",
    "df.set_index(plot_id_column, inplace = True)"
   ]
  },
  {
   "cell_type": "code",
   "execution_count": null,
   "id": "efa92651-7100-42ec-b0f8-238d6359612a",
   "metadata": {
    "tags": []
   },
   "outputs": [],
   "source": [
    "ceo_cols = df_out.columns"
   ]
  },
  {
   "cell_type": "code",
   "execution_count": null,
   "id": "191f2667-3684-4f64-ab2a-91c7254af61a",
   "metadata": {
    "tags": []
   },
   "outputs": [],
   "source": [
    "df[ceo_cols].columns"
   ]
  },
  {
   "cell_type": "code",
   "execution_count": null,
   "id": "881631f8-27a1-4aec-a649-7bb92005235f",
   "metadata": {
    "tags": []
   },
   "outputs": [],
   "source": [
    "gdf= df[ceo_cols]"
   ]
  },
  {
   "cell_type": "code",
   "execution_count": null,
   "id": "628a8b65-5ebf-4291-9c39-08b81864b392",
   "metadata": {},
   "outputs": [],
   "source": [
    "ceo_cols_for_exporting = tidy_tables.truncate_strings_in_list(ceo_cols_for_exporting,10) # for shapefile export"
   ]
  },
  {
   "cell_type": "code",
   "execution_count": null,
   "id": "2b8f69c4-48cc-4516-90e5-81bb10f56ed1",
   "metadata": {
    "tags": []
   },
   "outputs": [],
   "source": [
    "gdf.columns = ceo_cols_for_exporting # dynamic list (albeit col names still need fixing CEO end)"
   ]
  },
  {
   "cell_type": "code",
   "execution_count": null,
   "id": "3175a037-6336-4e7b-9017-e2d725c7546f",
   "metadata": {
    "tags": []
   },
   "outputs": [],
   "source": [
    "gdf = gpd.GeoDataFrame(gdf,\n",
    "                       geometry=df.geometry,\n",
    "                       crs=\"EPSG:4326\")"
   ]
  },
  {
   "cell_type": "code",
   "execution_count": null,
   "id": "a4bd2e6f-24ce-4fd8-b082-eb247ad0309b",
   "metadata": {},
   "outputs": [],
   "source": [
    "from modules.file_to_ceo import get_ceo_url"
   ]
  },
  {
   "cell_type": "code",
   "execution_count": null,
   "id": "15e1fa93-aef9-495a-8a93-f03836c5ff0b",
   "metadata": {
    "tags": []
   },
   "outputs": [],
   "source": [
    "gdf.to_file(filename='test_ceo_all.shp.zip', driver='ESRI Shapefile')\n",
    "\n",
    "ceo_url = get_ceo_url(\"./test_ceo_all.shp.zip\") # getting login errors for my account only (Andy), so temp not running this"
   ]
  },
  {
   "cell_type": "markdown",
   "id": "e3b512b0-f24b-4554-9d0b-8d34929804cd",
   "metadata": {
    "tags": []
   },
   "source": [
    "### 5. Create Map "
   ]
  },
  {
   "cell_type": "code",
   "execution_count": null,
   "id": "4ccdb011-65b4-4e06-9ce9-f30409841daa",
   "metadata": {
    "tags": []
   },
   "outputs": [],
   "source": [
    "images_iCol_for_viz = images_iCol_filt.sort(\"dataset_order\").filter(ee.Filter.neq(\"country_allocation_stats_only\",1))"
   ]
  },
  {
   "cell_type": "code",
   "execution_count": null,
   "id": "5cc82d7d-94aa-4e41-b321-c8d9daf43a95",
   "metadata": {
    "tags": []
   },
   "outputs": [],
   "source": [
    "Map = geemap.Map()\n",
    "\n",
    "images_names_list = images_iCol_for_viz.aggregate_array(\"system:index\").getInfo()\n",
    "\n",
    "for dataset_name in images_names_list:\n",
    "    \n",
    "    image_new = images_iCol_for_viz.filter(\n",
    "        ee.Filter.eq(\"system:index\", dataset_name)).first()\n",
    "    \n",
    "    viz_hex_code =  list(lookup_gee_datasets[\"viz_hex_code\"]\n",
    "                     [(lookup_gee_datasets[\"dataset_name\"]==dataset_name)])[0]\n",
    "    \n",
    "    if debug: print (\"adding image\",\"-\",dataset_name)\n",
    "        \n",
    "    visParams_sel = {'min': 0,'max': 1,'palette':['White',viz_hex_code]}\n",
    "    \n",
    "    Map.addLayer(image_new.gt(0).unmask(),visParams_sel,dataset_name,0,1)\n",
    "    \n",
    "    \n",
    "Map.addLayer(roi,{},'roi ',1,1)\n",
    "\n",
    "# if len(buffer_stats_list)>=1:\n",
    "#     Map.addLayer(roi_buffer,{},'roi buffer')\n",
    "\n",
    "if debug: print (\"All layers added\")"
   ]
  },
  {
   "cell_type": "code",
   "execution_count": null,
   "id": "5e97b44e-8269-4de3-9325-ceace306518d",
   "metadata": {},
   "outputs": [],
   "source": [
    "sc = Sidecar(title='Check Plots')\n",
    "with sc:display(Map)"
   ]
  },
  {
   "cell_type": "markdown",
   "id": "69851f7f-044a-4bdd-82ed-6510046ec0bc",
   "metadata": {},
   "source": [
    "## Display outputs"
   ]
  },
  {
   "cell_type": "markdown",
   "id": "15d8f97f-dcca-47ec-a567-9a2aacef2cc3",
   "metadata": {
    "tags": []
   },
   "source": [
    "### 6. Zoom on polygon"
   ]
  },
  {
   "cell_type": "code",
   "execution_count": null,
   "id": "cdc3dfb2-91fc-4e78-a49e-85c7294c794c",
   "metadata": {
    "tags": []
   },
   "outputs": [],
   "source": [
    "# number/index from list of ROI features - the selected feature is shown on the map. e.g., choose 0 for first in the list \n",
    "plotid = 2"
   ]
  },
  {
   "cell_type": "code",
   "execution_count": null,
   "id": "739b5b79-1690-4a65-a0ef-6fcde2dccbd7",
   "metadata": {},
   "outputs": [],
   "source": [
    "#choose how close to zoom to chosen polygon (1-24, where 24 is fully zoomed in) \n",
    "zoom_level = 16 \n",
    "\n",
    "single_feature_id = roi.aggregate_array(geo_id_column).get(plotid-1).getInfo()\n",
    "if debug: print (geo_id_column,single_feature_id)\n",
    "single_feature = ee.Feature(roi.filter(ee.Filter.eq(geo_id_column,single_feature_id)).first())\n",
    "\n",
    "Map.centerObject(single_feature,zoom_level)"
   ]
  },
  {
   "cell_type": "markdown",
   "id": "863cc8aa-0ef6-4b42-8f86-eb63c7e78a2a",
   "metadata": {
    "tags": []
   },
   "source": [
    "### 7. Display table"
   ]
  },
  {
   "cell_type": "code",
   "execution_count": null,
   "id": "31a052ec-541a-4f8d-be61-1da84b5d4851",
   "metadata": {
    "tags": []
   },
   "outputs": [],
   "source": [
    "df[ceo_cols]"
   ]
  },
  {
   "cell_type": "markdown",
   "id": "52a21df9-2ee0-44fc-b80d-ccd4113bb11c",
   "metadata": {
    "tags": []
   },
   "source": [
    "### 8. Generate CEO URL"
   ]
  },
  {
   "cell_type": "code",
   "execution_count": null,
   "id": "6ebf6c7f-5acc-4c58-82b1-2611a2d888f2",
   "metadata": {},
   "outputs": [],
   "source": [
    "print(ceo_url) # getting login errors for my account only (Andy), so temp not running this"
   ]
  },
  {
   "cell_type": "markdown",
   "id": "7cc51d7e-2548-4cc1-8de9-11e378f298df",
   "metadata": {},
   "source": [
    "### 9. Store image collection as an asset (optional)"
   ]
  },
  {
   "cell_type": "markdown",
   "id": "810ca3a7-873b-4237-8b59-efedd33a105c",
   "metadata": {
    "tags": []
   },
   "source": [
    "Faster calculations if stored as a new asset. Can be run to update periodically. For parameters see: parameters/config_runtime_parameters.py"
   ]
  },
  {
   "cell_type": "code",
   "execution_count": null,
   "id": "2a29592e-63ae-4228-a7a2-846155d8d832",
   "metadata": {},
   "outputs": [],
   "source": [
    "if export_icol:\n",
    "    export_image_collection_to_asset(\n",
    "        make_empty_image_coll=make_empty_image_coll, \n",
    "        image_col_to_export=images_iCol_filt, \n",
    "        target_image_col_id=target_image_col_id, \n",
    "        exportRegion=exportRegion, \n",
    "        skip_export_if_asset_exists=skip_export_if_asset_exists, \n",
    "        asset_exists_property=\"system:index\",\n",
    "        debug=debug)"
   ]
  },
  {
   "cell_type": "code",
   "execution_count": null,
   "id": "59715526-821d-4b18-82bd-ad0476acdd93",
   "metadata": {},
   "outputs": [],
   "source": []
  },
  {
   "cell_type": "code",
   "execution_count": null,
   "id": "5011eb77-8d7d-4669-90d0-40d951868667",
   "metadata": {},
   "outputs": [],
   "source": []
  }
 ],
 "metadata": {
  "kernelspec": {
   "display_name": "Python 3",
   "language": "python",
   "name": "python3"
  },
  "language_info": {
   "codemirror_mode": {
    "name": "ipython",
    "version": 3
   },
   "file_extension": ".py",
   "mimetype": "text/x-python",
   "name": "python",
   "nbconvert_exporter": "python",
   "pygments_lexer": "ipython3",
   "version": "3.10.12"
  },
  "vscode": {
   "interpreter": {
    "hash": "31f2aee4e71d21fbe5cf8b01ff0e069b9275f58929596ceb00d14d90e3e16cd6"
   }
  }
 },
 "nbformat": 4,
 "nbformat_minor": 5
}
